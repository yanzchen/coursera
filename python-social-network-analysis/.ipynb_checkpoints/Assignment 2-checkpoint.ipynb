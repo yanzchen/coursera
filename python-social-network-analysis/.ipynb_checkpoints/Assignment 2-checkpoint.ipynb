{
 "cells": [
  {
   "cell_type": "markdown",
   "metadata": {},
   "source": [
    "---\n",
    "\n",
    "_You are currently looking at **version 1.1** of this notebook. To download notebooks and datafiles, as well as get help on Jupyter notebooks in the Coursera platform, visit the [Jupyter Notebook FAQ](https://www.coursera.org/learn/python-social-network-analysis/resources/yPcBs) course resource._\n",
    "\n",
    "---"
   ]
  },
  {
   "cell_type": "markdown",
   "metadata": {},
   "source": [
    "# Assignment 2 - Network Connectivity\n",
    "\n",
    "In this assignment you will go through the process of importing and analyzing an internal email communication network between employees of a mid-sized manufacturing company. \n",
    "Each node represents an employee and each directed edge between two nodes represents an individual email. The left node represents the sender and the right node represents the recipient."
   ]
  },
  {
   "cell_type": "code",
   "execution_count": 1,
   "metadata": {},
   "outputs": [
    {
     "name": "stdout",
     "output_type": "stream",
     "text": [
      "#Sender\tRecipient\ttime\r\n",
      "1\t2\t1262454010\r\n",
      "1\t3\t1262454010\r\n",
      "1\t4\t1262454010\r\n",
      "1\t5\t1262454010\r\n",
      "1\t6\t1262454010\r\n",
      "1\t7\t1262454010\r\n",
      "1\t8\t1262454010\r\n",
      "1\t9\t1262454010\r\n",
      "1\t10\t1262454010\r\n"
     ]
    }
   ],
   "source": [
    "import networkx as nx\n",
    "\n",
    "# This line must be commented out when submitting to the autograder\n",
    "!head email_network.txt"
   ]
  },
  {
   "cell_type": "markdown",
   "metadata": {},
   "source": [
    "### Question 1\n",
    "\n",
    "Using networkx, load up the directed multigraph from `email_network.txt`. Make sure the node names are strings.\n",
    "\n",
    "*This function should return a directed multigraph networkx graph.*"
   ]
  },
  {
   "cell_type": "code",
   "execution_count": 22,
   "metadata": {},
   "outputs": [
    {
     "name": "stdout",
     "output_type": "stream",
     "text": [
      "   #Sender  Recipient        time\n",
      "0        1          2  1262454010\n",
      "1        1          3  1262454010\n",
      "2        1          4  1262454010\n",
      "167\n"
     ]
    },
    {
     "data": {
      "text/plain": [
       "<networkx.classes.digraph.DiGraph at 0x7f93c4beba90>"
      ]
     },
     "execution_count": 22,
     "metadata": {},
     "output_type": "execute_result"
    }
   ],
   "source": [
    "def answer_one():\n",
    "    \n",
    "    # Your Code Here\n",
    "    import pandas as pd\n",
    "    df = pd.read_csv('email_network.txt', sep='\\t')\n",
    "    print(df.head(3))\n",
    "    G = nx.from_pandas_dataframe(df, '#Sender', 'Recipient', edge_attr='time', create_using=nx.DiGraph())\n",
    "\n",
    "    print(len(G))\n",
    "    return G  # Your Answer Here\n",
    "answer_one()"
   ]
  },
  {
   "cell_type": "markdown",
   "metadata": {},
   "source": [
    "### Question 2\n",
    "\n",
    "How many employees and emails are represented in the graph from Question 1?\n",
    "\n",
    "*This function should return a tuple (#employees, #emails).*"
   ]
  },
  {
   "cell_type": "code",
   "execution_count": 9,
   "metadata": {},
   "outputs": [
    {
     "name": "stdout",
     "output_type": "stream",
     "text": [
      "   #Sender  Recipient        time\n",
      "0        1          2  1262454010\n",
      "1        1          3  1262454010\n",
      "2        1          4  1262454010\n",
      "\n",
      "(167, 5784)\n"
     ]
    }
   ],
   "source": [
    "def answer_two():\n",
    "        \n",
    "    # Your Code Here\n",
    "    G = answer_one()\n",
    "    employees = len(G.nodes())\n",
    "    emails = len(G.edges())\n",
    "    return employees, emails  # Your Answer Here\n",
    "print(answer_two())"
   ]
  },
  {
   "cell_type": "markdown",
   "metadata": {},
   "source": [
    "### Question 3\n",
    "\n",
    "* Part 1. Assume that information in this company can only be exchanged through email.\n",
    "\n",
    "    When an employee sends an email to another employee, a communication channel has been created, allowing the sender to provide information to the receiver, but not vice versa. \n",
    "\n",
    "    Based on the emails sent in the data, is it possible for information to go from every employee to every other employee?\n",
    "\n",
    "\n",
    "* Part 2. Now assume that a communication channel established by an email allows information to be exchanged both ways. \n",
    "\n",
    "    Based on the emails sent in the data, is it possible for information to go from every employee to every other employee?\n",
    "\n",
    "\n",
    "*This function should return a tuple of bools (part1, part2).*"
   ]
  },
  {
   "cell_type": "code",
   "execution_count": 18,
   "metadata": {},
   "outputs": [
    {
     "name": "stdout",
     "output_type": "stream",
     "text": [
      "   #Sender  Recipient        time\n",
      "0        1          2  1262454010\n",
      "1        1          3  1262454010\n",
      "2        1          4  1262454010\n",
      "\n"
     ]
    },
    {
     "data": {
      "text/plain": [
       "(False, True)"
      ]
     },
     "execution_count": 18,
     "metadata": {},
     "output_type": "execute_result"
    }
   ],
   "source": [
    "def answer_three():\n",
    "        \n",
    "    # Your Code Here\n",
    "    G = answer_one()\n",
    "    #largest = max(nx.strongly_connected_components(G), key=len)    \n",
    "    #connected_di = len(largest) == len(G.nodes())\n",
    "    connected_di = nx.is_strongly_connected(G)\n",
    "    connected_un = nx.is_connected(G.to_undirected())\n",
    "    return connected_di, connected_un  # Your Answer Here\n",
    "answer_three()"
   ]
  },
  {
   "cell_type": "markdown",
   "metadata": {},
   "source": [
    "### Question 4\n",
    "\n",
    "How many nodes are in the largest (in terms of nodes) weakly connected component?\n",
    "\n",
    "*This function should return an int.*"
   ]
  },
  {
   "cell_type": "code",
   "execution_count": 17,
   "metadata": {
    "scrolled": true
   },
   "outputs": [
    {
     "name": "stdout",
     "output_type": "stream",
     "text": [
      "   #Sender  Recipient        time\n",
      "0        1          2  1262454010\n",
      "1        1          3  1262454010\n",
      "2        1          4  1262454010\n",
      "\n"
     ]
    },
    {
     "data": {
      "text/plain": [
       "167"
      ]
     },
     "execution_count": 17,
     "metadata": {},
     "output_type": "execute_result"
    }
   ],
   "source": [
    "def answer_four():\n",
    "        \n",
    "    # Your Code Here\n",
    "    G = answer_one()\n",
    "    largest = max(nx.weakly_connected_components(G), key=len)\n",
    "    return len(largest)  # Your Answer Here\n",
    "answer_four()"
   ]
  },
  {
   "cell_type": "markdown",
   "metadata": {},
   "source": [
    "### Question 5\n",
    "\n",
    "How many nodes are in the largest (in terms of nodes) strongly connected component?\n",
    "\n",
    "*This function should return an int*"
   ]
  },
  {
   "cell_type": "code",
   "execution_count": 19,
   "metadata": {},
   "outputs": [
    {
     "name": "stdout",
     "output_type": "stream",
     "text": [
      "   #Sender  Recipient        time\n",
      "0        1          2  1262454010\n",
      "1        1          3  1262454010\n",
      "2        1          4  1262454010\n",
      "\n"
     ]
    },
    {
     "data": {
      "text/plain": [
       "126"
      ]
     },
     "execution_count": 19,
     "metadata": {},
     "output_type": "execute_result"
    }
   ],
   "source": [
    "def answer_five():\n",
    "        \n",
    "    # Your Code Here\n",
    "    G = answer_one()\n",
    "    largest = max(nx.strongly_connected_components(G), key=len)  \n",
    "    return len(largest)  # Your Answer Here\n",
    "answer_five()"
   ]
  },
  {
   "cell_type": "markdown",
   "metadata": {},
   "source": [
    "### Question 6\n",
    "\n",
    "Using the NetworkX function strongly_connected_component_subgraphs, find the subgraph of nodes in a largest strongly connected component. \n",
    "Call this graph G_sc.\n",
    "\n",
    "*This function should return a networkx MultiDiGraph named G_sc.*"
   ]
  },
  {
   "cell_type": "code",
   "execution_count": 21,
   "metadata": {},
   "outputs": [
    {
     "name": "stdout",
     "output_type": "stream",
     "text": [
      "   #Sender  Recipient        time\n",
      "0        1          2  1262454010\n",
      "1        1          3  1262454010\n",
      "2        1          4  1262454010\n",
      "\n",
      "['__class__', '__contains__', '__delattr__', '__dict__', '__dir__', '__doc__', '__eq__', '__format__', '__ge__', '__getattribute__', '__getitem__', '__gt__', '__hash__', '__init__', '__init_subclass__', '__iter__', '__le__', '__len__', '__lt__', '__module__', '__ne__', '__new__', '__reduce__', '__reduce_ex__', '__repr__', '__setattr__', '__sizeof__', '__slotnames__', '__str__', '__subclasshook__', '__weakref__', 'add_cycle', 'add_edge', 'add_edges_from', 'add_node', 'add_nodes_from', 'add_path', 'add_star', 'add_weighted_edges_from', 'adj', 'adjacency_iter', 'adjacency_list', 'adjlist_dict_factory', 'clear', 'copy', 'degree', 'degree_iter', 'edge', 'edge_attr_dict_factory', 'edges', 'edges_iter', 'get_edge_data', 'graph', 'has_edge', 'has_node', 'has_predecessor', 'has_successor', 'in_degree', 'in_degree_iter', 'in_edges', 'in_edges_iter', 'is_directed', 'is_multigraph', 'name', 'nbunch_iter', 'neighbors', 'neighbors_iter', 'node', 'node_dict_factory', 'nodes', 'nodes_iter', 'nodes_with_selfloops', 'number_of_edges', 'number_of_nodes', 'number_of_selfloops', 'order', 'out_degree', 'out_degree_iter', 'out_edges', 'out_edges_iter', 'pred', 'predecessors', 'predecessors_iter', 'remove_edge', 'remove_edges_from', 'remove_node', 'remove_nodes_from', 'reverse', 'selfloop_edges', 'size', 'subgraph', 'succ', 'successors', 'successors_iter', 'to_directed', 'to_undirected']\n",
      "<class 'networkx.classes.digraph.DiGraph'>\n",
      "126\n"
     ]
    }
   ],
   "source": [
    "def answer_six():\n",
    "        \n",
    "    # Your Code Here\n",
    "    G = answer_one()\n",
    "    G_sc = max(nx.strongly_connected_component_subgraphs(G), key=len)\n",
    "    return G_sc # Your Answer Here\n",
    "G_sc = answer_six()\n",
    "print(dir(G_sc))\n",
    "print(type(G_sc))\n",
    "print(len(G_sc))"
   ]
  },
  {
   "cell_type": "markdown",
   "metadata": {},
   "source": [
    "### Question 7\n",
    "\n",
    "What is the average distance between nodes in G_sc?\n",
    "\n",
    "*This function should return a float.*"
   ]
  },
  {
   "cell_type": "code",
   "execution_count": 25,
   "metadata": {},
   "outputs": [
    {
     "name": "stdout",
     "output_type": "stream",
     "text": [
      "   #Sender  Recipient        time\n",
      "0        1          2  1262454010\n",
      "1        1          3  1262454010\n",
      "2        1          4  1262454010\n",
      "167\n",
      "1.6055873015873017\n",
      "1.6461587301587302\n"
     ]
    }
   ],
   "source": [
    "def answer_seven():\n",
    "        \n",
    "    # Your Code Here\n",
    "    G_sc = answer_six()\n",
    "    distance = nx.average_shortest_path_length(G_sc)\n",
    "    G_un = G_sc.to_undirected()\n",
    "    print(nx.average_shortest_path_length(G_un))\n",
    "    return distance # Your Answer Here\n",
    "print(answer_seven())"
   ]
  },
  {
   "cell_type": "markdown",
   "metadata": {},
   "source": [
    "### Question 8\n",
    "\n",
    "What is the largest possible distance between two employees in G_sc?\n",
    "\n",
    "*This function should return an int.*"
   ]
  },
  {
   "cell_type": "code",
   "execution_count": 26,
   "metadata": {},
   "outputs": [
    {
     "name": "stdout",
     "output_type": "stream",
     "text": [
      "   #Sender  Recipient        time\n",
      "0        1          2  1262454010\n",
      "1        1          3  1262454010\n",
      "2        1          4  1262454010\n",
      "167\n"
     ]
    },
    {
     "data": {
      "text/plain": [
       "3"
      ]
     },
     "execution_count": 26,
     "metadata": {},
     "output_type": "execute_result"
    }
   ],
   "source": [
    "def answer_eight():\n",
    "        \n",
    "    # Your Code Here\n",
    "    G_sc = answer_six()\n",
    "    dia = nx.diameter(G_sc)\n",
    "    return dia  # Your Answer Here\n",
    "answer_eight()"
   ]
  },
  {
   "cell_type": "markdown",
   "metadata": {},
   "source": [
    "### Question 9\n",
    "\n",
    "What is the set of nodes in G_sc with eccentricity equal to the diameter?\n",
    "\n",
    "*This function should return a set of the node(s).*"
   ]
  },
  {
   "cell_type": "code",
   "execution_count": 27,
   "metadata": {},
   "outputs": [
    {
     "name": "stdout",
     "output_type": "stream",
     "text": [
      "   #Sender  Recipient        time\n",
      "0        1          2  1262454010\n",
      "1        1          3  1262454010\n",
      "2        1          4  1262454010\n",
      "167\n"
     ]
    },
    {
     "data": {
      "text/plain": [
       "{97, 129, 134}"
      ]
     },
     "execution_count": 27,
     "metadata": {},
     "output_type": "execute_result"
    }
   ],
   "source": [
    "def answer_nine():\n",
    "       \n",
    "    # Your Code Here\n",
    "    G_sc = answer_six()\n",
    "    dia = nx.diameter(G_sc)\n",
    "    eccentricity = nx.eccentricity(G_sc)\n",
    "    nodes  = [node for node in eccentricity if eccentricity[node] == dia]\n",
    "    return set(nodes) # Your Answer Here\n",
    "answer_nine()"
   ]
  },
  {
   "cell_type": "markdown",
   "metadata": {},
   "source": [
    "### Question 10\n",
    "\n",
    "What is the set of node(s) in G_sc with eccentricity equal to the radius?\n",
    "\n",
    "*This function should return a set of the node(s).*"
   ]
  },
  {
   "cell_type": "code",
   "execution_count": 28,
   "metadata": {},
   "outputs": [
    {
     "name": "stdout",
     "output_type": "stream",
     "text": [
      "   #Sender  Recipient        time\n",
      "0        1          2  1262454010\n",
      "1        1          3  1262454010\n",
      "2        1          4  1262454010\n",
      "167\n"
     ]
    },
    {
     "data": {
      "text/plain": [
       "{38}"
      ]
     },
     "execution_count": 28,
     "metadata": {},
     "output_type": "execute_result"
    }
   ],
   "source": [
    "def answer_ten():\n",
    "        \n",
    "    # Your Code Here\n",
    "    G_sc = answer_six()\n",
    "    rad = nx.radius(G_sc)\n",
    "    eccentricity = nx.eccentricity(G_sc)\n",
    "    nodes  = [node for node in eccentricity if eccentricity[node] == rad]\n",
    "    return set(nodes) # Your Answer Here\n",
    "answer_ten()"
   ]
  },
  {
   "cell_type": "markdown",
   "metadata": {},
   "source": [
    "### Question 11\n",
    "\n",
    "Which node in G_sc has the most shortest paths to other nodes whose distance equal the diameter of G_sc?\n",
    "\n",
    "\n",
    "How many of these paths are there?\n",
    "\n",
    "\n",
    "*This function should return a tuple (name of node, number of paths).*"
   ]
  },
  {
   "cell_type": "code",
   "execution_count": null,
   "metadata": {
    "collapsed": true
   },
   "outputs": [],
   "source": [
    "def answer_eleven():\n",
    "        \n",
    "    # Your Code Here\n",
    "    \n",
    "    return # Your Answer Here"
   ]
  },
  {
   "cell_type": "markdown",
   "metadata": {},
   "source": [
    "### Question 12\n",
    "\n",
    "Suppose you want to prevent communication from flowing to the node that you found in the previous question from any node in the center of G_sc, what is the smallest number of nodes you would need to remove from the graph (you're not allowed to remove the node from the previous question or the center nodes)? \n",
    "\n",
    "*This function should return an integer.*"
   ]
  },
  {
   "cell_type": "code",
   "execution_count": null,
   "metadata": {
    "collapsed": true
   },
   "outputs": [],
   "source": [
    "def answer_twelve():\n",
    "        \n",
    "    # Your Code Here\n",
    "    \n",
    "    return # Your Answer Here"
   ]
  },
  {
   "cell_type": "markdown",
   "metadata": {},
   "source": [
    "### Question 13\n",
    "\n",
    "Construct an undirected graph G_un using G_sc (you can ignore the attributes).\n",
    "\n",
    "*This function should return a networkx Graph.*"
   ]
  },
  {
   "cell_type": "code",
   "execution_count": null,
   "metadata": {
    "collapsed": true
   },
   "outputs": [],
   "source": [
    "def answer_thirteen():\n",
    "        \n",
    "    # Your Code Here\n",
    "    \n",
    "    return # Your Answer Here"
   ]
  },
  {
   "cell_type": "markdown",
   "metadata": {},
   "source": [
    "### Question 14\n",
    "\n",
    "What is the transitivity and average clustering coefficient of graph G_un?\n",
    "\n",
    "*This function should return a tuple (transitivity, avg clustering).*"
   ]
  },
  {
   "cell_type": "code",
   "execution_count": null,
   "metadata": {
    "collapsed": true
   },
   "outputs": [],
   "source": [
    "def answer_fourteen():\n",
    "        \n",
    "    # Your Code Here\n",
    "    \n",
    "    return # Your Answer Here"
   ]
  }
 ],
 "metadata": {
  "coursera": {
   "course_slug": "python-social-network-analysis",
   "graded_item_id": "jMCHR",
   "launcher_item_id": "7RsKp",
   "part_id": "E9gn5"
  },
  "kernelspec": {
   "display_name": "Python 3",
   "language": "python",
   "name": "python3"
  },
  "language_info": {
   "codemirror_mode": {
    "name": "ipython",
    "version": 3
   },
   "file_extension": ".py",
   "mimetype": "text/x-python",
   "name": "python",
   "nbconvert_exporter": "python",
   "pygments_lexer": "ipython3",
   "version": "3.6.2"
  }
 },
 "nbformat": 4,
 "nbformat_minor": 2
}
